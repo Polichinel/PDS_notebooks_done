{
 "cells": [
  {
   "cell_type": "code",
   "execution_count": 2,
   "metadata": {
    "collapsed": true
   },
   "outputs": [],
   "source": [
    "import numpy as np\n",
    "import pandas as pd\n",
    "\n",
    "import pickle\n",
    "from congress import Congress\n",
    "import tweepy"
   ]
  },
  {
   "cell_type": "code",
   "execution_count": 3,
   "metadata": {},
   "outputs": [],
   "source": [
    "pkl_file = open('/home/polichinel/Dropbox/credential/essentials.pkl', 'rb')\n",
    "essentials = pickle.load(pkl_file)\n",
    "\n",
    "consumer_key = essentials[\"twitter_consumer_key\"]\n",
    "consumer_secret = essentials[\"twitter_consumer_secret\"]\n",
    "\n",
    "access_token = essentials[\"twitter_Access_Token\"]\n",
    "access_secret = essentials[\"twittet_Access_Token_Secret\"]\n",
    "\n",
    "auth = tweepy.OAuthHandler(consumer_key=consumer_key, consumer_secret=consumer_secret)\n",
    "auth.set_access_token(key=access_token, secret=access_secret)\n",
    "api = tweepy.API(auth, wait_on_rate_limit=True, wait_on_rate_limit_notify = True)\n",
    "\n",
    "congress = Congress(essentials[\"congress_key\"])\n",
    "\n",
    "\n",
    "pkl_file.close()"
   ]
  },
  {
   "cell_type": "code",
   "execution_count": 4,
   "metadata": {},
   "outputs": [],
   "source": [
    "senate = congress.members.filter(\"senate\")\n",
    "house = congress.members.filter(\"house\")\n",
    "\n",
    "senate_members = senate[0]['members']\n",
    "house_members = house[0]['members']\n",
    "\n",
    "df_senata = pd.DataFrame(senate_members)\n",
    "df_house = pd.DataFrame(house_members)\n",
    "\n",
    "\n",
    "legs = df_house.twitter_account\n",
    "legs = legs.append(df_senata.twitter_account)\n",
    "\n",
    "legs.dropna(inplace=True)"
   ]
  },
  {
   "cell_type": "code",
   "execution_count": 5,
   "metadata": {},
   "outputs": [
    {
     "name": "stdout",
     "output_type": "stream",
     "text": [
      "538\n"
     ]
    }
   ],
   "source": [
    "total_n = len(legs) # gives three more then before.\n",
    "print(total_n)"
   ]
  },
  {
   "cell_type": "code",
   "execution_count": 8,
   "metadata": {},
   "outputs": [
    {
     "name": "stdout",
     "output_type": "stream",
     "text": [
      "1/538 2/538 3/538 4/538 5/538 6/538 "
     ]
    },
    {
     "name": "stderr",
     "output_type": "stream",
     "text": [
      "Rate limit reached. Sleeping for: 351\n"
     ]
    },
    {
     "name": "stdout",
     "output_type": "stream",
     "text": [
      "Failed to send request: HTTPSConnectionPool(host='api.twitter.com', port=443): Read timed out. (read timeout=60) 7/538 8/538 9/538 10/538 11/538 12/538 13/538 14/538 "
     ]
    },
    {
     "name": "stderr",
     "output_type": "stream",
     "text": [
      "Rate limit reached. Sleeping for: 493\n"
     ]
    },
    {
     "name": "stdout",
     "output_type": "stream",
     "text": [
      "Failed to send request: HTTPSConnectionPool(host='api.twitter.com', port=443): Read timed out. (read timeout=60) 15/538 16/538 17/538 18/538 19/538 20/538 21/538 22/538 "
     ]
    },
    {
     "name": "stderr",
     "output_type": "stream",
     "text": [
      "Rate limit reached. Sleeping for: 503\n"
     ]
    },
    {
     "name": "stdout",
     "output_type": "stream",
     "text": [
      "Failed to send request: HTTPSConnectionPool(host='api.twitter.com', port=443): Read timed out. (read timeout=60) 23/538 24/538 25/538 26/538 27/538 28/538 29/538 30/538 31/538 32/538 33/538 "
     ]
    },
    {
     "name": "stderr",
     "output_type": "stream",
     "text": [
      "Rate limit reached. Sleeping for: 503\n"
     ]
    },
    {
     "name": "stdout",
     "output_type": "stream",
     "text": [
      "Failed to send request: HTTPSConnectionPool(host='api.twitter.com', port=443): Read timed out. (read timeout=60) 34/538 35/538 36/538 37/538 38/538 39/538 40/538 41/538 42/538 "
     ]
    },
    {
     "name": "stderr",
     "output_type": "stream",
     "text": [
      "Rate limit reached. Sleeping for: 487\n"
     ]
    },
    {
     "name": "stdout",
     "output_type": "stream",
     "text": [
      "Failed to send request: HTTPSConnectionPool(host='api.twitter.com', port=443): Read timed out. (read timeout=60) 43/538 44/538 45/538 46/538 47/538 48/538 49/538 "
     ]
    },
    {
     "name": "stderr",
     "output_type": "stream",
     "text": [
      "Rate limit reached. Sleeping for: 498\n"
     ]
    },
    {
     "name": "stdout",
     "output_type": "stream",
     "text": [
      "Failed to send request: HTTPSConnectionPool(host='api.twitter.com', port=443): Read timed out. (read timeout=60) 50/538 51/538 52/538 53/538 54/538 55/538 56/538 57/538 58/538 "
     ]
    },
    {
     "name": "stderr",
     "output_type": "stream",
     "text": [
      "Rate limit reached. Sleeping for: 507\n"
     ]
    },
    {
     "name": "stdout",
     "output_type": "stream",
     "text": [
      "Failed to send request: HTTPSConnectionPool(host='api.twitter.com', port=443): Read timed out. (read timeout=60) 59/538 60/538 61/538 62/538 63/538 64/538 65/538 "
     ]
    },
    {
     "name": "stderr",
     "output_type": "stream",
     "text": [
      "Rate limit reached. Sleeping for: 495\n"
     ]
    },
    {
     "name": "stdout",
     "output_type": "stream",
     "text": [
      "Failed to send request: HTTPSConnectionPool(host='api.twitter.com', port=443): Read timed out. (read timeout=60) 66/538 67/538 68/538 69/538 70/538 71/538 72/538 "
     ]
    },
    {
     "name": "stderr",
     "output_type": "stream",
     "text": [
      "Rate limit reached. Sleeping for: 495\n"
     ]
    },
    {
     "name": "stdout",
     "output_type": "stream",
     "text": [
      "Failed to send request: HTTPSConnectionPool(host='api.twitter.com', port=443): Read timed out. (read timeout=60) 73/538 74/538 75/538 76/538 77/538 78/538 79/538 "
     ]
    },
    {
     "name": "stderr",
     "output_type": "stream",
     "text": [
      "Rate limit reached. Sleeping for: 505\n"
     ]
    },
    {
     "name": "stdout",
     "output_type": "stream",
     "text": [
      "Failed to send request: HTTPSConnectionPool(host='api.twitter.com', port=443): Read timed out. (read timeout=60) 80/538 81/538 82/538 83/538 84/538 85/538 86/538 87/538 "
     ]
    },
    {
     "name": "stderr",
     "output_type": "stream",
     "text": [
      "Rate limit reached. Sleeping for: 507\n"
     ]
    },
    {
     "name": "stdout",
     "output_type": "stream",
     "text": [
      "Failed to send request: HTTPSConnectionPool(host='api.twitter.com', port=443): Read timed out. (read timeout=60) 88/538 89/538 90/538 91/538 92/538 93/538 94/538 "
     ]
    },
    {
     "name": "stderr",
     "output_type": "stream",
     "text": [
      "Rate limit reached. Sleeping for: 485\n"
     ]
    },
    {
     "name": "stdout",
     "output_type": "stream",
     "text": [
      "Failed to send request: HTTPSConnectionPool(host='api.twitter.com', port=443): Read timed out. (read timeout=60) 95/538 96/538 97/538 98/538 99/538 100/538 101/538 102/538 "
     ]
    },
    {
     "name": "stderr",
     "output_type": "stream",
     "text": [
      "Rate limit reached. Sleeping for: 501\n"
     ]
    },
    {
     "name": "stdout",
     "output_type": "stream",
     "text": [
      "Failed to send request: HTTPSConnectionPool(host='api.twitter.com', port=443): Read timed out. (read timeout=60) 103/538 104/538 105/538 106/538 107/538 108/538 109/538 "
     ]
    },
    {
     "name": "stderr",
     "output_type": "stream",
     "text": [
      "Rate limit reached. Sleeping for: 500\n"
     ]
    },
    {
     "name": "stdout",
     "output_type": "stream",
     "text": [
      "Failed to send request: HTTPSConnectionPool(host='api.twitter.com', port=443): Read timed out. (read timeout=60) 110/538 111/538 112/538 113/538 114/538 115/538 116/538 117/538 118/538 "
     ]
    },
    {
     "name": "stderr",
     "output_type": "stream",
     "text": [
      "Rate limit reached. Sleeping for: 492\n"
     ]
    },
    {
     "name": "stdout",
     "output_type": "stream",
     "text": [
      "Failed to send request: HTTPSConnectionPool(host='api.twitter.com', port=443): Read timed out. (read timeout=60) 119/538 120/538 121/538 122/538 123/538 124/538 125/538 "
     ]
    },
    {
     "name": "stderr",
     "output_type": "stream",
     "text": [
      "Rate limit reached. Sleeping for: 482\n"
     ]
    },
    {
     "name": "stdout",
     "output_type": "stream",
     "text": [
      "Failed to send request: HTTPSConnectionPool(host='api.twitter.com', port=443): Read timed out. (read timeout=60) 126/538 127/538 128/538 129/538 130/538 131/538 132/538 133/538 134/538 "
     ]
    },
    {
     "name": "stderr",
     "output_type": "stream",
     "text": [
      "Rate limit reached. Sleeping for: 494\n"
     ]
    },
    {
     "name": "stdout",
     "output_type": "stream",
     "text": [
      "Failed to send request: HTTPSConnectionPool(host='api.twitter.com', port=443): Read timed out. (read timeout=60) 135/538 136/538 Twitter error response: status code = 401 137/538 138/538 139/538 140/538 141/538 142/538 143/538 "
     ]
    },
    {
     "name": "stderr",
     "output_type": "stream",
     "text": [
      "Rate limit reached. Sleeping for: 496\n"
     ]
    },
    {
     "name": "stdout",
     "output_type": "stream",
     "text": [
      "Failed to send request: HTTPSConnectionPool(host='api.twitter.com', port=443): Read timed out. (read timeout=60) 144/538 145/538 146/538 147/538 148/538 149/538 150/538 151/538 "
     ]
    },
    {
     "name": "stderr",
     "output_type": "stream",
     "text": [
      "Rate limit reached. Sleeping for: 473\n"
     ]
    },
    {
     "name": "stdout",
     "output_type": "stream",
     "text": [
      "Failed to send request: HTTPSConnectionPool(host='api.twitter.com', port=443): Read timed out. (read timeout=60) 152/538 153/538 154/538 155/538 156/538 157/538 158/538 159/538 "
     ]
    },
    {
     "name": "stderr",
     "output_type": "stream",
     "text": [
      "Rate limit reached. Sleeping for: 482\n"
     ]
    },
    {
     "name": "stdout",
     "output_type": "stream",
     "text": [
      "Failed to send request: HTTPSConnectionPool(host='api.twitter.com', port=443): Read timed out. (read timeout=60) 160/538 161/538 162/538 163/538 164/538 165/538 166/538 167/538 168/538 169/538 "
     ]
    },
    {
     "name": "stderr",
     "output_type": "stream",
     "text": [
      "Rate limit reached. Sleeping for: 482\n"
     ]
    },
    {
     "name": "stdout",
     "output_type": "stream",
     "text": [
      "Failed to send request: HTTPSConnectionPool(host='api.twitter.com', port=443): Read timed out. (read timeout=60) 170/538 171/538 172/538 173/538 174/538 175/538 176/538 177/538 178/538 179/538 180/538 "
     ]
    },
    {
     "name": "stderr",
     "output_type": "stream",
     "text": [
      "Rate limit reached. Sleeping for: 459\n"
     ]
    },
    {
     "name": "stdout",
     "output_type": "stream",
     "text": [
      "Failed to send request: HTTPSConnectionPool(host='api.twitter.com', port=443): Read timed out. (read timeout=60) 181/538 182/538 183/538 184/538 185/538 186/538 187/538 "
     ]
    },
    {
     "name": "stderr",
     "output_type": "stream",
     "text": [
      "Rate limit reached. Sleeping for: 463\n"
     ]
    },
    {
     "name": "stdout",
     "output_type": "stream",
     "text": [
      "Failed to send request: HTTPSConnectionPool(host='api.twitter.com', port=443): Read timed out. (read timeout=60) 188/538 189/538 190/538 191/538 192/538 193/538 "
     ]
    },
    {
     "name": "stderr",
     "output_type": "stream",
     "text": [
      "Rate limit reached. Sleeping for: 468\n"
     ]
    },
    {
     "name": "stdout",
     "output_type": "stream",
     "text": [
      "Failed to send request: HTTPSConnectionPool(host='api.twitter.com', port=443): Read timed out. (read timeout=60) 194/538 195/538 196/538 197/538 198/538 199/538 200/538 201/538 "
     ]
    },
    {
     "name": "stderr",
     "output_type": "stream",
     "text": [
      "Rate limit reached. Sleeping for: 470\n"
     ]
    },
    {
     "name": "stdout",
     "output_type": "stream",
     "text": [
      "Failed to send request: HTTPSConnectionPool(host='api.twitter.com', port=443): Read timed out. (read timeout=60) 202/538 203/538 204/538 205/538 206/538 207/538 208/538 209/538 "
     ]
    },
    {
     "name": "stderr",
     "output_type": "stream",
     "text": [
      "Rate limit reached. Sleeping for: 462\n"
     ]
    },
    {
     "name": "stdout",
     "output_type": "stream",
     "text": [
      "Failed to send request: HTTPSConnectionPool(host='api.twitter.com', port=443): Read timed out. (read timeout=60) 210/538 211/538 212/538 213/538 214/538 215/538 216/538 217/538 "
     ]
    },
    {
     "name": "stderr",
     "output_type": "stream",
     "text": [
      "Rate limit reached. Sleeping for: 455\n"
     ]
    },
    {
     "name": "stdout",
     "output_type": "stream",
     "text": [
      "Failed to send request: HTTPSConnectionPool(host='api.twitter.com', port=443): Read timed out. (read timeout=60) 218/538 219/538 220/538 221/538 222/538 223/538 224/538 225/538 226/538 "
     ]
    },
    {
     "name": "stderr",
     "output_type": "stream",
     "text": [
      "Rate limit reached. Sleeping for: 462\n"
     ]
    },
    {
     "name": "stdout",
     "output_type": "stream",
     "text": [
      "Failed to send request: HTTPSConnectionPool(host='api.twitter.com', port=443): Read timed out. (read timeout=60) 227/538 228/538 229/538 230/538 231/538 232/538 233/538 "
     ]
    },
    {
     "name": "stderr",
     "output_type": "stream",
     "text": [
      "Rate limit reached. Sleeping for: 454\n"
     ]
    },
    {
     "name": "stdout",
     "output_type": "stream",
     "text": [
      "Failed to send request: HTTPSConnectionPool(host='api.twitter.com', port=443): Read timed out. (read timeout=60) 234/538 235/538 236/538 237/538 238/538 239/538 240/538 241/538 242/538 "
     ]
    },
    {
     "name": "stderr",
     "output_type": "stream",
     "text": [
      "Rate limit reached. Sleeping for: 461\n"
     ]
    },
    {
     "name": "stdout",
     "output_type": "stream",
     "text": [
      "Failed to send request: HTTPSConnectionPool(host='api.twitter.com', port=443): Read timed out. (read timeout=60) 243/538 244/538 245/538 246/538 247/538 248/538 249/538 250/538 "
     ]
    },
    {
     "name": "stderr",
     "output_type": "stream",
     "text": [
      "Rate limit reached. Sleeping for: 485\n"
     ]
    },
    {
     "name": "stdout",
     "output_type": "stream",
     "text": [
      "Failed to send request: HTTPSConnectionPool(host='api.twitter.com', port=443): Read timed out. (read timeout=60) 251/538 252/538 253/538 254/538 255/538 256/538 257/538 "
     ]
    },
    {
     "name": "stderr",
     "output_type": "stream",
     "text": [
      "Rate limit reached. Sleeping for: 479\n"
     ]
    },
    {
     "name": "stdout",
     "output_type": "stream",
     "text": [
      "Failed to send request: HTTPSConnectionPool(host='api.twitter.com', port=443): Read timed out. (read timeout=60) 258/538 259/538 260/538 261/538 262/538 263/538 264/538 "
     ]
    },
    {
     "name": "stderr",
     "output_type": "stream",
     "text": [
      "Rate limit reached. Sleeping for: 471\n"
     ]
    },
    {
     "name": "stdout",
     "output_type": "stream",
     "text": [
      "Failed to send request: HTTPSConnectionPool(host='api.twitter.com', port=443): Read timed out. (read timeout=60) 265/538 266/538 267/538 268/538 269/538 270/538 271/538 Twitter error response: status code = 401 272/538 "
     ]
    },
    {
     "name": "stderr",
     "output_type": "stream",
     "text": [
      "Rate limit reached. Sleeping for: 476\n"
     ]
    },
    {
     "name": "stdout",
     "output_type": "stream",
     "text": [
      "Failed to send request: HTTPSConnectionPool(host='api.twitter.com', port=443): Read timed out. (read timeout=60) 273/538 274/538 275/538 276/538 277/538 278/538 279/538 280/538 281/538 Twitter error response: status code = 404 282/538 "
     ]
    },
    {
     "name": "stderr",
     "output_type": "stream",
     "text": [
      "Rate limit reached. Sleeping for: 459\n"
     ]
    },
    {
     "name": "stdout",
     "output_type": "stream",
     "text": [
      "Failed to send request: HTTPSConnectionPool(host='api.twitter.com', port=443): Read timed out. (read timeout=60) 283/538 Twitter error response: status code = 401 284/538 285/538 286/538 287/538 288/538 289/538 290/538 291/538 "
     ]
    },
    {
     "name": "stderr",
     "output_type": "stream",
     "text": [
      "Rate limit reached. Sleeping for: 463\n"
     ]
    },
    {
     "name": "stdout",
     "output_type": "stream",
     "text": [
      "Failed to send request: HTTPSConnectionPool(host='api.twitter.com', port=443): Read timed out. (read timeout=60) 292/538 293/538 Twitter error response: status code = 404 294/538 295/538 296/538 297/538 298/538 299/538 "
     ]
    },
    {
     "name": "stderr",
     "output_type": "stream",
     "text": [
      "Rate limit reached. Sleeping for: 471\n"
     ]
    },
    {
     "name": "stdout",
     "output_type": "stream",
     "text": [
      "Failed to send request: HTTPSConnectionPool(host='api.twitter.com', port=443): Read timed out. (read timeout=60) 300/538 301/538 302/538 303/538 304/538 305/538 306/538 "
     ]
    },
    {
     "name": "stderr",
     "output_type": "stream",
     "text": [
      "Rate limit reached. Sleeping for: 464\n"
     ]
    },
    {
     "name": "stdout",
     "output_type": "stream",
     "text": [
      "Failed to send request: HTTPSConnectionPool(host='api.twitter.com', port=443): Read timed out. (read timeout=60) 307/538 308/538 309/538 310/538 311/538 312/538 313/538 "
     ]
    },
    {
     "name": "stderr",
     "output_type": "stream",
     "text": [
      "Rate limit reached. Sleeping for: 451\n"
     ]
    },
    {
     "name": "stdout",
     "output_type": "stream",
     "text": [
      "Failed to send request: HTTPSConnectionPool(host='api.twitter.com', port=443): Read timed out. (read timeout=60) 314/538 315/538 316/538 Twitter error response: status code = 401 317/538 318/538 319/538 320/538 321/538 322/538 "
     ]
    },
    {
     "name": "stderr",
     "output_type": "stream",
     "text": [
      "Rate limit reached. Sleeping for: 465\n"
     ]
    },
    {
     "name": "stdout",
     "output_type": "stream",
     "text": [
      "Failed to send request: HTTPSConnectionPool(host='api.twitter.com', port=443): Read timed out. (read timeout=60) 323/538 324/538 325/538 326/538 327/538 328/538 329/538 330/538 "
     ]
    },
    {
     "name": "stderr",
     "output_type": "stream",
     "text": [
      "Rate limit reached. Sleeping for: 459\n"
     ]
    },
    {
     "name": "stdout",
     "output_type": "stream",
     "text": [
      "Failed to send request: HTTPSConnectionPool(host='api.twitter.com', port=443): Read timed out. (read timeout=60) 331/538 332/538 333/538 334/538 335/538 336/538 337/538 "
     ]
    },
    {
     "name": "stderr",
     "output_type": "stream",
     "text": [
      "Rate limit reached. Sleeping for: 468\n"
     ]
    },
    {
     "name": "stdout",
     "output_type": "stream",
     "text": [
      "338/538 339/538 340/538 341/538 342/538 343/538 344/538 "
     ]
    },
    {
     "name": "stderr",
     "output_type": "stream",
     "text": [
      "Rate limit reached. Sleeping for: 455\n"
     ]
    },
    {
     "name": "stdout",
     "output_type": "stream",
     "text": [
      "Failed to send request: HTTPSConnectionPool(host='api.twitter.com', port=443): Read timed out. (read timeout=60) 345/538 346/538 347/538 348/538 349/538 350/538 351/538 352/538 353/538 "
     ]
    },
    {
     "name": "stderr",
     "output_type": "stream",
     "text": [
      "Rate limit reached. Sleeping for: 453\n"
     ]
    },
    {
     "name": "stdout",
     "output_type": "stream",
     "text": [
      "Failed to send request: HTTPSConnectionPool(host='api.twitter.com', port=443): Read timed out. (read timeout=60) 354/538 355/538 356/538 357/538 358/538 359/538 360/538 "
     ]
    },
    {
     "name": "stderr",
     "output_type": "stream",
     "text": [
      "Rate limit reached. Sleeping for: 454\n"
     ]
    },
    {
     "name": "stdout",
     "output_type": "stream",
     "text": [
      "Failed to send request: HTTPSConnectionPool(host='api.twitter.com', port=443): Read timed out. (read timeout=60) 361/538 362/538 363/538 364/538 365/538 366/538 367/538 "
     ]
    },
    {
     "name": "stderr",
     "output_type": "stream",
     "text": [
      "Rate limit reached. Sleeping for: 468\n"
     ]
    },
    {
     "name": "stdout",
     "output_type": "stream",
     "text": [
      "Failed to send request: HTTPSConnectionPool(host='api.twitter.com', port=443): Read timed out. (read timeout=60) 368/538 369/538 370/538 371/538 372/538 373/538 374/538 375/538 "
     ]
    },
    {
     "name": "stderr",
     "output_type": "stream",
     "text": [
      "Rate limit reached. Sleeping for: 470\n"
     ]
    },
    {
     "name": "stdout",
     "output_type": "stream",
     "text": [
      "Failed to send request: HTTPSConnectionPool(host='api.twitter.com', port=443): Read timed out. (read timeout=60) 376/538 377/538 378/538 379/538 380/538 381/538 382/538 "
     ]
    },
    {
     "name": "stderr",
     "output_type": "stream",
     "text": [
      "Rate limit reached. Sleeping for: 448\n"
     ]
    },
    {
     "name": "stdout",
     "output_type": "stream",
     "text": [
      "Failed to send request: HTTPSConnectionPool(host='api.twitter.com', port=443): Read timed out. (read timeout=60) 383/538 384/538 385/538 386/538 387/538 388/538 389/538 "
     ]
    },
    {
     "name": "stderr",
     "output_type": "stream",
     "text": [
      "Rate limit reached. Sleeping for: 455\n"
     ]
    },
    {
     "name": "stdout",
     "output_type": "stream",
     "text": [
      "Failed to send request: HTTPSConnectionPool(host='api.twitter.com', port=443): Read timed out. (read timeout=60) 390/538 391/538 392/538 393/538 394/538 395/538 396/538 397/538 398/538 399/538 "
     ]
    },
    {
     "name": "stderr",
     "output_type": "stream",
     "text": [
      "Rate limit reached. Sleeping for: 442\n"
     ]
    },
    {
     "name": "stdout",
     "output_type": "stream",
     "text": [
      "Failed to send request: HTTPSConnectionPool(host='api.twitter.com', port=443): Read timed out. (read timeout=60) 400/538 401/538 402/538 403/538 404/538 405/538 406/538 407/538 "
     ]
    },
    {
     "name": "stderr",
     "output_type": "stream",
     "text": [
      "Rate limit reached. Sleeping for: 445\n"
     ]
    },
    {
     "name": "stdout",
     "output_type": "stream",
     "text": [
      "Failed to send request: HTTPSConnectionPool(host='api.twitter.com', port=443): Read timed out. (read timeout=60) 408/538 409/538 410/538 411/538 412/538 413/538 414/538 "
     ]
    },
    {
     "name": "stderr",
     "output_type": "stream",
     "text": [
      "Rate limit reached. Sleeping for: 443\n"
     ]
    },
    {
     "name": "stdout",
     "output_type": "stream",
     "text": [
      "Failed to send request: HTTPSConnectionPool(host='api.twitter.com', port=443): Read timed out. (read timeout=60) 415/538 416/538 417/538 418/538 419/538 420/538 421/538 "
     ]
    },
    {
     "name": "stderr",
     "output_type": "stream",
     "text": [
      "Rate limit reached. Sleeping for: 445\n"
     ]
    },
    {
     "name": "stdout",
     "output_type": "stream",
     "text": [
      "Failed to send request: HTTPSConnectionPool(host='api.twitter.com', port=443): Read timed out. (read timeout=60) 422/538 423/538 424/538 425/538 426/538 427/538 428/538 "
     ]
    },
    {
     "name": "stderr",
     "output_type": "stream",
     "text": [
      "Rate limit reached. Sleeping for: 450\n"
     ]
    },
    {
     "name": "stdout",
     "output_type": "stream",
     "text": [
      "Failed to send request: HTTPSConnectionPool(host='api.twitter.com', port=443): Read timed out. (read timeout=60) 429/538 430/538 431/538 432/538 433/538 434/538 435/538 "
     ]
    },
    {
     "name": "stderr",
     "output_type": "stream",
     "text": [
      "Rate limit reached. Sleeping for: 448\n"
     ]
    },
    {
     "name": "stdout",
     "output_type": "stream",
     "text": [
      "Failed to send request: HTTPSConnectionPool(host='api.twitter.com', port=443): Read timed out. (read timeout=60) 436/538 437/538 438/538 439/538 440/538 441/538 442/538 443/538 "
     ]
    },
    {
     "name": "stderr",
     "output_type": "stream",
     "text": [
      "Rate limit reached. Sleeping for: 487\n"
     ]
    },
    {
     "name": "stdout",
     "output_type": "stream",
     "text": [
      "Failed to send request: HTTPSConnectionPool(host='api.twitter.com', port=443): Read timed out. (read timeout=60) 444/538 445/538 446/538 447/538 448/538 449/538 "
     ]
    },
    {
     "name": "stderr",
     "output_type": "stream",
     "text": [
      "Rate limit reached. Sleeping for: 473\n"
     ]
    },
    {
     "name": "stdout",
     "output_type": "stream",
     "text": [
      "Failed to send request: HTTPSConnectionPool(host='api.twitter.com', port=443): Read timed out. (read timeout=60) 450/538 451/538 452/538 453/538 454/538 455/538 456/538 "
     ]
    },
    {
     "name": "stderr",
     "output_type": "stream",
     "text": [
      "Rate limit reached. Sleeping for: 482\n"
     ]
    },
    {
     "name": "stdout",
     "output_type": "stream",
     "text": [
      "Failed to send request: HTTPSConnectionPool(host='api.twitter.com', port=443): Read timed out. (read timeout=60) 457/538 458/538 459/538 460/538 461/538 462/538 "
     ]
    },
    {
     "name": "stderr",
     "output_type": "stream",
     "text": [
      "Rate limit reached. Sleeping for: 478\n"
     ]
    },
    {
     "name": "stdout",
     "output_type": "stream",
     "text": [
      "Failed to send request: HTTPSConnectionPool(host='api.twitter.com', port=443): Read timed out. (read timeout=60) 463/538 464/538 465/538 466/538 467/538 468/538 "
     ]
    },
    {
     "name": "stderr",
     "output_type": "stream",
     "text": [
      "Rate limit reached. Sleeping for: 484\n"
     ]
    },
    {
     "name": "stdout",
     "output_type": "stream",
     "text": [
      "Failed to send request: HTTPSConnectionPool(host='api.twitter.com', port=443): Read timed out. (read timeout=60) 469/538 470/538 471/538 472/538 473/538 474/538 "
     ]
    },
    {
     "name": "stderr",
     "output_type": "stream",
     "text": [
      "Rate limit reached. Sleeping for: 493\n"
     ]
    },
    {
     "name": "stdout",
     "output_type": "stream",
     "text": [
      "Failed to send request: HTTPSConnectionPool(host='api.twitter.com', port=443): Read timed out. (read timeout=60) 475/538 476/538 477/538 478/538 479/538 480/538 "
     ]
    },
    {
     "name": "stderr",
     "output_type": "stream",
     "text": [
      "Rate limit reached. Sleeping for: 482\n"
     ]
    },
    {
     "name": "stdout",
     "output_type": "stream",
     "text": [
      "Failed to send request: HTTPSConnectionPool(host='api.twitter.com', port=443): Read timed out. (read timeout=60) 481/538 482/538 483/538 484/538 485/538 486/538 "
     ]
    },
    {
     "name": "stderr",
     "output_type": "stream",
     "text": [
      "Rate limit reached. Sleeping for: 481\n"
     ]
    },
    {
     "name": "stdout",
     "output_type": "stream",
     "text": [
      "Failed to send request: HTTPSConnectionPool(host='api.twitter.com', port=443): Read timed out. (read timeout=60) 487/538 488/538 489/538 Twitter error response: status code = 401 490/538 491/538 492/538 493/538 494/538 495/538 "
     ]
    },
    {
     "name": "stderr",
     "output_type": "stream",
     "text": [
      "Rate limit reached. Sleeping for: 478\n"
     ]
    },
    {
     "name": "stdout",
     "output_type": "stream",
     "text": [
      "Failed to send request: HTTPSConnectionPool(host='api.twitter.com', port=443): Read timed out. (read timeout=60) 496/538 497/538 498/538 499/538 500/538 501/538 "
     ]
    },
    {
     "name": "stderr",
     "output_type": "stream",
     "text": [
      "Rate limit reached. Sleeping for: 461\n"
     ]
    },
    {
     "name": "stdout",
     "output_type": "stream",
     "text": [
      "Failed to send request: HTTPSConnectionPool(host='api.twitter.com', port=443): Read timed out. (read timeout=60) 502/538 503/538 504/538 505/538 506/538 507/538 508/538 "
     ]
    },
    {
     "name": "stderr",
     "output_type": "stream",
     "text": [
      "Rate limit reached. Sleeping for: 474\n"
     ]
    },
    {
     "name": "stdout",
     "output_type": "stream",
     "text": [
      "Failed to send request: HTTPSConnectionPool(host='api.twitter.com', port=443): Read timed out. (read timeout=60) 509/538 510/538 511/538 512/538 513/538 514/538 515/538 "
     ]
    },
    {
     "name": "stderr",
     "output_type": "stream",
     "text": [
      "Rate limit reached. Sleeping for: 474\n"
     ]
    },
    {
     "name": "stdout",
     "output_type": "stream",
     "text": [
      "Failed to send request: HTTPSConnectionPool(host='api.twitter.com', port=443): Read timed out. (read timeout=60) 516/538 517/538 518/538 519/538 520/538 Twitter error response: status code = 401 521/538 522/538 523/538 524/538 "
     ]
    },
    {
     "name": "stderr",
     "output_type": "stream",
     "text": [
      "Rate limit reached. Sleeping for: 469\n"
     ]
    },
    {
     "name": "stdout",
     "output_type": "stream",
     "text": [
      "Failed to send request: HTTPSConnectionPool(host='api.twitter.com', port=443): Read timed out. (read timeout=60) 525/538 526/538 527/538 528/538 529/538 530/538 531/538 "
     ]
    },
    {
     "name": "stderr",
     "output_type": "stream",
     "text": [
      "Rate limit reached. Sleeping for: 465\n"
     ]
    },
    {
     "name": "stdout",
     "output_type": "stream",
     "text": [
      "Failed to send request: HTTPSConnectionPool(host='api.twitter.com', port=443): Read timed out. (read timeout=60) 532/538 533/538 534/538 535/538 536/538 537/538 "
     ]
    },
    {
     "name": "stderr",
     "output_type": "stream",
     "text": [
      "Rate limit reached. Sleeping for: 476\n"
     ]
    },
    {
     "name": "stdout",
     "output_type": "stream",
     "text": [
      "Failed to send request: HTTPSConnectionPool(host='api.twitter.com', port=443): Read timed out. (read timeout=60) 538/538 Twitter error response: status code = 404 "
     ]
    }
   ],
   "source": [
    "# the scraping -----------------------------------------------------------------------\n",
    "\n",
    "\n",
    "x=0 #\n",
    "\n",
    "for legislator in legs[0:]: # set number if needed - last crash at 296\n",
    "    time_lines = []\n",
    "    x=x+1\n",
    "    print(str(x) + \"/\" + str(total_n), end=' ') # printing horizontal \"loadingline\"\n",
    "    \n",
    "    try:\n",
    "        for tweet in tweepy.Cursor(api.user_timeline, id=legislator).items(): # how many tweets from each pol - blank means to limit rata\n",
    "            time_lines.append(tweet)\n",
    "            \n",
    "    except(RuntimeError, TypeError, NameError, ZeroDivisionError, IndexError, tweepy.TweepError)  as e:\n",
    "        print(e, end=' ')\n",
    "        continue\n",
    "\n",
    "    #crash backup\n",
    "    file_name = \"/home/polichinel/Documents/all_timelines/time_lines_\" +  str(x)  + \"_\" + legislator + \".pkl\"\n",
    "    output = open(file_name, 'wb') # still not working right!!\n",
    "    pickle.dump(time_lines, output)\n",
    "    output.close()"
   ]
  },
  {
   "cell_type": "code",
   "execution_count": 18,
   "metadata": {},
   "outputs": [
    {
     "name": "stdout",
     "output_type": "stream",
     "text": [
      "1/538 2/538 3/538 4/538 5/538 [Errno 2] No such file or directory: '/home/polichinel/Documents/all_timelines/time_lines_6_MarkAmodeiNV2.pkl' 7/538 8/538 9/538 10/538 11/538 12/538 13/538 [Errno 2] No such file or directory: '/home/polichinel/Documents/all_timelines/time_lines_14_RepJoeBarton.pkl' 15/538 16/538 17/538 18/538 19/538 20/538 21/538 [Errno 2] No such file or directory: '/home/polichinel/Documents/all_timelines/time_lines_22_RepGusBilirakis.pkl' 23/538 24/538 25/538 26/538 27/538 28/538 29/538 30/538 31/538 32/538 [Errno 2] No such file or directory: '/home/polichinel/Documents/all_timelines/time_lines_33_RepBrendanBoyle.pkl' 34/538 35/538 36/538 37/538 38/538 39/538 40/538 41/538 [Errno 2] No such file or directory: '/home/polichinel/Documents/all_timelines/time_lines_42_VernBuchanan.pkl' 43/538 44/538 45/538 46/538 47/538 48/538 [Errno 2] No such file or directory: '/home/polichinel/Documents/all_timelines/time_lines_49_RepByrne.pkl' 50/538 51/538 52/538 53/538 54/538 55/538 56/538 57/538 [Errno 2] No such file or directory: '/home/polichinel/Documents/all_timelines/time_lines_58_USRepKCastor.pkl' 59/538 60/538 61/538 62/538 63/538 64/538 [Errno 2] No such file or directory: '/home/polichinel/Documents/all_timelines/time_lines_65_RepKClark.pkl' 66/538 67/538 68/538 69/538 70/538 71/538 [Errno 2] No such file or directory: '/home/polichinel/Documents/all_timelines/time_lines_72_RepDougCollins.pkl' 73/538 74/538 75/538 76/538 77/538 78/538 [Errno 2] No such file or directory: '/home/polichinel/Documents/all_timelines/time_lines_79_RepJimCooper.pkl' 80/538 81/538 82/538 83/538 84/538 85/538 86/538 [Errno 2] No such file or directory: '/home/polichinel/Documents/all_timelines/time_lines_87_RepJoeCrowley.pkl' 88/538 89/538 90/538 91/538 92/538 93/538 [Errno 2] No such file or directory: '/home/polichinel/Documents/all_timelines/time_lines_94_RodneyDavis.pkl' 95/538 96/538 97/538 98/538 99/538 100/538 101/538 [Errno 2] No such file or directory: '/home/polichinel/Documents/all_timelines/time_lines_102_RepValDemings.pkl' 103/538 104/538 105/538 106/538 107/538 108/538 [Errno 2] No such file or directory: '/home/polichinel/Documents/all_timelines/time_lines_109_MarioDB.pkl' 110/538 111/538 112/538 113/538 114/538 115/538 116/538 117/538 [Errno 2] No such file or directory: '/home/polichinel/Documents/all_timelines/time_lines_118_KeithEllison.pkl' 119/538 120/538 121/538 122/538 123/538 124/538 [Errno 2] No such file or directory: '/home/polichinel/Documents/all_timelines/time_lines_125_RepDwightEvans.pkl' 126/538 127/538 128/538 129/538 130/538 131/538 132/538 133/538 [Errno 2] No such file or directory: '/home/polichinel/Documents/all_timelines/time_lines_134_VirginiaFoxx.pkl' 135/538 [Errno 2] No such file or directory: '/home/polichinel/Documents/all_timelines/time_lines_136_RepTrentFranks.pkl' 137/538 138/538 139/538 140/538 141/538 142/538 [Errno 2] No such file or directory: '/home/polichinel/Documents/all_timelines/time_lines_143_RepGaramendi.pkl' 144/538 145/538 146/538 147/538 148/538 149/538 150/538 [Errno 2] No such file or directory: '/home/polichinel/Documents/all_timelines/time_lines_151_RepGosar.pkl' 152/538 153/538 154/538 155/538 156/538 157/538 158/538 [Errno 2] No such file or directory: '/home/polichinel/Documents/all_timelines/time_lines_159_RepGeneGreen.pkl' 160/538 161/538 162/538 163/538 164/538 165/538 166/538 167/538 168/538 [Errno 2] No such file or directory: '/home/polichinel/Documents/all_timelines/time_lines_169_RepHartzler.pkl' 170/538 171/538 172/538 173/538 174/538 175/538 176/538 177/538 178/538 179/538 [Errno 2] No such file or directory: '/home/polichinel/Documents/all_timelines/time_lines_180_reptrey.pkl' 181/538 182/538 183/538 184/538 185/538 186/538 [Errno 2] No such file or directory: '/home/polichinel/Documents/all_timelines/time_lines_187_hurdonthehill.pkl' 188/538 189/538 190/538 191/538 192/538 [Errno 2] No such file or directory: '/home/polichinel/Documents/all_timelines/time_lines_193_RepLynnJenkins.pkl' 194/538 195/538 196/538 197/538 198/538 199/538 200/538 [Errno 2] No such file or directory: '/home/polichinel/Documents/all_timelines/time_lines_201_RepDaveJoyce.pkl' 202/538 203/538 204/538 205/538 206/538 207/538 208/538 [Errno 2] No such file or directory: '/home/polichinel/Documents/all_timelines/time_lines_209_RepRoKhanna.pkl' 210/538 211/538 212/538 213/538 214/538 215/538 216/538 [Errno 2] No such file or directory: '/home/polichinel/Documents/all_timelines/time_lines_217_SteveKnight25.pkl' 218/538 219/538 220/538 221/538 222/538 223/538 224/538 225/538 [Errno 2] No such file or directory: '/home/polichinel/Documents/all_timelines/time_lines_226_JimLangevin.pkl' 227/538 228/538 229/538 230/538 231/538 232/538 [Errno 2] No such file or directory: '/home/polichinel/Documents/all_timelines/time_lines_233_RepSandyLevin.pkl' 234/538 235/538 236/538 237/538 238/538 239/538 240/538 241/538 [Errno 2] No such file or directory: '/home/polichinel/Documents/all_timelines/time_lines_242_RepLoudermilk.pkl' 243/538 244/538 245/538 246/538 247/538 248/538 249/538 [Errno 2] No such file or directory: '/home/polichinel/Documents/all_timelines/time_lines_250_RepStephenLynch.pkl' 251/538 252/538 253/538 254/538 255/538 256/538 [Errno 2] No such file or directory: '/home/polichinel/Documents/all_timelines/time_lines_257_repbrianmast.pkl' 258/538 259/538 260/538 261/538 262/538 263/538 [Errno 2] No such file or directory: '/home/polichinel/Documents/all_timelines/time_lines_264_RepMcGovern.pkl' 265/538 266/538 267/538 268/538 269/538 270/538 "
     ]
    }
   ],
   "source": [
    "# do it in two steps or you'll run out of ram:\n",
    "time_lines = []\n",
    "count = 0\n",
    "for legislator in legs[0:270]:\n",
    "    count += 1\n",
    "    file_path = \"/home/polichinel/Documents/all_timelines/time_lines_\" + str(count) + \"_\" + legislator + \".pkl\"\n",
    "    \n",
    "    try:\n",
    "        pkl_file = open(file_path, 'rb')\n",
    "        temp_time_line = pickle.load(pkl_file)\n",
    "        pkl_file.close()\n",
    "    \n",
    "        time_lines += temp_time_line\n",
    "        \n",
    "        print(str(count)+\"/\"+str(len(legs)), end=\" \")\n",
    "                \n",
    "    except(FileNotFoundError)  as e:\n",
    "        print(e, end=\" \")\n",
    "        continue"
   ]
  },
  {
   "cell_type": "code",
   "execution_count": 19,
   "metadata": {},
   "outputs": [
    {
     "data": {
      "text/plain": [
       "540299"
      ]
     },
     "execution_count": 19,
     "metadata": {},
     "output_type": "execute_result"
    }
   ],
   "source": [
    "len(time_lines)"
   ]
  },
  {
   "cell_type": "code",
   "execution_count": 20,
   "metadata": {
    "collapsed": true
   },
   "outputs": [],
   "source": [
    "# Making the dataframe\n",
    "\n",
    "def process_one_user(time_lines):\n",
    "    id_list = [tweet.id for tweet in time_lines]\n",
    "    data_set = pd.DataFrame(id_list, columns=[\"id\"])\n",
    "\n",
    "    # Processing Tweet Data\n",
    "\n",
    "    data_set[\"text\"] = [tweet.text for tweet in time_lines]\n",
    "    data_set[\"created_at\"] = [tweet.created_at for tweet in time_lines]\n",
    "    data_set[\"retweet_count\"] = [tweet.retweet_count for tweet in time_lines]\n",
    "    data_set[\"favorite_count\"] = [tweet.favorite_count for tweet in time_lines]\n",
    "    data_set[\"source\"] = [tweet.source for tweet in time_lines]\n",
    "\n",
    "    # Processing User Data\n",
    "    data_set[\"user_id\"] = [tweet.author.id for tweet in time_lines]\n",
    "    data_set[\"user_screen_name\"] = [tweet.author.screen_name for tweet in time_lines]\n",
    "    data_set[\"user_name\"] = [tweet.author.name for tweet in time_lines]\n",
    "    data_set[\"user_created_at\"] = [tweet.author.created_at for tweet in time_lines]\n",
    "    data_set[\"user_description\"] = [tweet.author.description for tweet in time_lines]\n",
    "    data_set[\"user_followers_count\"] = [tweet.author.followers_count for tweet in time_lines]\n",
    "    data_set[\"user_friends_count\"] = [tweet.author.friends_count for tweet in time_lines]\n",
    "    data_set[\"user_location\"] = [tweet.author.location for tweet in time_lines]\n",
    "\n",
    "    return data_set\n",
    "data_set = process_one_user(time_lines)"
   ]
  },
  {
   "cell_type": "code",
   "execution_count": 21,
   "metadata": {
    "scrolled": false
   },
   "outputs": [
    {
     "name": "stdout",
     "output_type": "stream",
     "text": [
      "dimensions of dataframe: (540299, 14)\n"
     ]
    },
    {
     "data": {
      "text/html": [
       "<div>\n",
       "<style scoped>\n",
       "    .dataframe tbody tr th:only-of-type {\n",
       "        vertical-align: middle;\n",
       "    }\n",
       "\n",
       "    .dataframe tbody tr th {\n",
       "        vertical-align: top;\n",
       "    }\n",
       "\n",
       "    .dataframe thead th {\n",
       "        text-align: right;\n",
       "    }\n",
       "</style>\n",
       "<table border=\"1\" class=\"dataframe\">\n",
       "  <thead>\n",
       "    <tr style=\"text-align: right;\">\n",
       "      <th></th>\n",
       "      <th>id</th>\n",
       "      <th>text</th>\n",
       "      <th>created_at</th>\n",
       "      <th>retweet_count</th>\n",
       "      <th>favorite_count</th>\n",
       "      <th>source</th>\n",
       "      <th>user_id</th>\n",
       "      <th>user_screen_name</th>\n",
       "      <th>user_name</th>\n",
       "      <th>user_created_at</th>\n",
       "      <th>user_description</th>\n",
       "      <th>user_followers_count</th>\n",
       "      <th>user_friends_count</th>\n",
       "      <th>user_location</th>\n",
       "    </tr>\n",
       "  </thead>\n",
       "  <tbody>\n",
       "    <tr>\n",
       "      <th>0</th>\n",
       "      <td>1002259613138505728</td>\n",
       "      <td>Thank you to the Ruston Kiwanis Club for letti...</td>\n",
       "      <td>2018-05-31 18:44:47</td>\n",
       "      <td>1</td>\n",
       "      <td>6</td>\n",
       "      <td>Twitter for iPhone</td>\n",
       "      <td>2962891515</td>\n",
       "      <td>RepAbraham</td>\n",
       "      <td>Rep. Ralph Abraham</td>\n",
       "      <td>2015-01-05 23:01:54</td>\n",
       "      <td>Proudly representing Louisiana's 5th District....</td>\n",
       "      <td>12771</td>\n",
       "      <td>106</td>\n",
       "      <td></td>\n",
       "    </tr>\n",
       "    <tr>\n",
       "      <th>1</th>\n",
       "      <td>1001890084503932933</td>\n",
       "      <td>It was great to be at the ribbon cutting cerem...</td>\n",
       "      <td>2018-05-30 18:16:25</td>\n",
       "      <td>2</td>\n",
       "      <td>2</td>\n",
       "      <td>Twitter for iPhone</td>\n",
       "      <td>2962891515</td>\n",
       "      <td>RepAbraham</td>\n",
       "      <td>Rep. Ralph Abraham</td>\n",
       "      <td>2015-01-05 23:01:54</td>\n",
       "      <td>Proudly representing Louisiana's 5th District....</td>\n",
       "      <td>12771</td>\n",
       "      <td>106</td>\n",
       "      <td></td>\n",
       "    </tr>\n",
       "    <tr>\n",
       "      <th>2</th>\n",
       "      <td>1001551340282236928</td>\n",
       "      <td>Last week, Congress passed the #FY19NDAA and g...</td>\n",
       "      <td>2018-05-29 19:50:22</td>\n",
       "      <td>2</td>\n",
       "      <td>2</td>\n",
       "      <td>Twitter Web Client</td>\n",
       "      <td>2962891515</td>\n",
       "      <td>RepAbraham</td>\n",
       "      <td>Rep. Ralph Abraham</td>\n",
       "      <td>2015-01-05 23:01:54</td>\n",
       "      <td>Proudly representing Louisiana's 5th District....</td>\n",
       "      <td>12771</td>\n",
       "      <td>106</td>\n",
       "      <td></td>\n",
       "    </tr>\n",
       "    <tr>\n",
       "      <th>3</th>\n",
       "      <td>1001268990000451584</td>\n",
       "      <td>We wrapped up Memorial Day with a service at t...</td>\n",
       "      <td>2018-05-29 01:08:24</td>\n",
       "      <td>1</td>\n",
       "      <td>8</td>\n",
       "      <td>Twitter for iPhone</td>\n",
       "      <td>2962891515</td>\n",
       "      <td>RepAbraham</td>\n",
       "      <td>Rep. Ralph Abraham</td>\n",
       "      <td>2015-01-05 23:01:54</td>\n",
       "      <td>Proudly representing Louisiana's 5th District....</td>\n",
       "      <td>12771</td>\n",
       "      <td>106</td>\n",
       "      <td></td>\n",
       "    </tr>\n",
       "    <tr>\n",
       "      <th>4</th>\n",
       "      <td>1001170592287133701</td>\n",
       "      <td>Wonderful service today in Alexandria, LA for ...</td>\n",
       "      <td>2018-05-28 18:37:24</td>\n",
       "      <td>4</td>\n",
       "      <td>19</td>\n",
       "      <td>Twitter for iPhone</td>\n",
       "      <td>2962891515</td>\n",
       "      <td>RepAbraham</td>\n",
       "      <td>Rep. Ralph Abraham</td>\n",
       "      <td>2015-01-05 23:01:54</td>\n",
       "      <td>Proudly representing Louisiana's 5th District....</td>\n",
       "      <td>12771</td>\n",
       "      <td>106</td>\n",
       "      <td></td>\n",
       "    </tr>\n",
       "    <tr>\n",
       "      <th>5</th>\n",
       "      <td>1001102040091807745</td>\n",
       "      <td>On Memorial Day, we reflect on the men &amp;amp; w...</td>\n",
       "      <td>2018-05-28 14:05:00</td>\n",
       "      <td>6</td>\n",
       "      <td>12</td>\n",
       "      <td>TweetDeck</td>\n",
       "      <td>2962891515</td>\n",
       "      <td>RepAbraham</td>\n",
       "      <td>Rep. Ralph Abraham</td>\n",
       "      <td>2015-01-05 23:01:54</td>\n",
       "      <td>Proudly representing Louisiana's 5th District....</td>\n",
       "      <td>12771</td>\n",
       "      <td>106</td>\n",
       "      <td></td>\n",
       "    </tr>\n",
       "  </tbody>\n",
       "</table>\n",
       "</div>"
      ],
      "text/plain": [
       "                    id                                               text  \\\n",
       "0  1002259613138505728  Thank you to the Ruston Kiwanis Club for letti...   \n",
       "1  1001890084503932933  It was great to be at the ribbon cutting cerem...   \n",
       "2  1001551340282236928  Last week, Congress passed the #FY19NDAA and g...   \n",
       "3  1001268990000451584  We wrapped up Memorial Day with a service at t...   \n",
       "4  1001170592287133701  Wonderful service today in Alexandria, LA for ...   \n",
       "5  1001102040091807745  On Memorial Day, we reflect on the men &amp; w...   \n",
       "\n",
       "           created_at  retweet_count  favorite_count              source  \\\n",
       "0 2018-05-31 18:44:47              1               6  Twitter for iPhone   \n",
       "1 2018-05-30 18:16:25              2               2  Twitter for iPhone   \n",
       "2 2018-05-29 19:50:22              2               2  Twitter Web Client   \n",
       "3 2018-05-29 01:08:24              1               8  Twitter for iPhone   \n",
       "4 2018-05-28 18:37:24              4              19  Twitter for iPhone   \n",
       "5 2018-05-28 14:05:00              6              12           TweetDeck   \n",
       "\n",
       "      user_id user_screen_name           user_name     user_created_at  \\\n",
       "0  2962891515       RepAbraham  Rep. Ralph Abraham 2015-01-05 23:01:54   \n",
       "1  2962891515       RepAbraham  Rep. Ralph Abraham 2015-01-05 23:01:54   \n",
       "2  2962891515       RepAbraham  Rep. Ralph Abraham 2015-01-05 23:01:54   \n",
       "3  2962891515       RepAbraham  Rep. Ralph Abraham 2015-01-05 23:01:54   \n",
       "4  2962891515       RepAbraham  Rep. Ralph Abraham 2015-01-05 23:01:54   \n",
       "5  2962891515       RepAbraham  Rep. Ralph Abraham 2015-01-05 23:01:54   \n",
       "\n",
       "                                    user_description  user_followers_count  \\\n",
       "0  Proudly representing Louisiana's 5th District....                 12771   \n",
       "1  Proudly representing Louisiana's 5th District....                 12771   \n",
       "2  Proudly representing Louisiana's 5th District....                 12771   \n",
       "3  Proudly representing Louisiana's 5th District....                 12771   \n",
       "4  Proudly representing Louisiana's 5th District....                 12771   \n",
       "5  Proudly representing Louisiana's 5th District....                 12771   \n",
       "\n",
       "   user_friends_count user_location  \n",
       "0                 106                \n",
       "1                 106                \n",
       "2                 106                \n",
       "3                 106                \n",
       "4                 106                \n",
       "5                 106                "
      ]
     },
     "execution_count": 21,
     "metadata": {},
     "output_type": "execute_result"
    }
   ],
   "source": [
    "print(\"dimensions of dataframe: \"  + str(data_set.shape))\n",
    "data_set.head(6)"
   ]
  },
  {
   "cell_type": "code",
   "execution_count": 22,
   "metadata": {},
   "outputs": [
    {
     "data": {
      "text/html": [
       "<div>\n",
       "<style scoped>\n",
       "    .dataframe tbody tr th:only-of-type {\n",
       "        vertical-align: middle;\n",
       "    }\n",
       "\n",
       "    .dataframe tbody tr th {\n",
       "        vertical-align: top;\n",
       "    }\n",
       "\n",
       "    .dataframe thead th {\n",
       "        text-align: right;\n",
       "    }\n",
       "</style>\n",
       "<table border=\"1\" class=\"dataframe\">\n",
       "  <thead>\n",
       "    <tr style=\"text-align: right;\">\n",
       "      <th></th>\n",
       "      <th>id</th>\n",
       "      <th>text</th>\n",
       "      <th>created_at</th>\n",
       "      <th>retweet_count</th>\n",
       "      <th>favorite_count</th>\n",
       "      <th>source</th>\n",
       "      <th>user_id</th>\n",
       "      <th>user_screen_name</th>\n",
       "      <th>user_name</th>\n",
       "      <th>user_created_at</th>\n",
       "      <th>user_description</th>\n",
       "      <th>user_followers_count</th>\n",
       "      <th>user_friends_count</th>\n",
       "      <th>user_location</th>\n",
       "    </tr>\n",
       "  </thead>\n",
       "  <tbody>\n",
       "    <tr>\n",
       "      <th>540293</th>\n",
       "      <td>468732284657733632</td>\n",
       "      <td>The Center for Medicare &amp;amp; Medicaid Service...</td>\n",
       "      <td>2014-05-20 12:37:39</td>\n",
       "      <td>3</td>\n",
       "      <td>0</td>\n",
       "      <td>Twitter Web Client</td>\n",
       "      <td>963480595</td>\n",
       "      <td>RepMarkMeadows</td>\n",
       "      <td>Mark Meadows</td>\n",
       "      <td>2012-11-22 02:20:50</td>\n",
       "      <td>Businessman, husband, and father proudly repre...</td>\n",
       "      <td>99500</td>\n",
       "      <td>896</td>\n",
       "      <td>Jackson County, NC</td>\n",
       "    </tr>\n",
       "    <tr>\n",
       "      <th>540294</th>\n",
       "      <td>468731595399364608</td>\n",
       "      <td>Watch the House Oversight &amp;amp; Gov't Reform C...</td>\n",
       "      <td>2014-05-20 12:34:55</td>\n",
       "      <td>4</td>\n",
       "      <td>1</td>\n",
       "      <td>Twitter Web Client</td>\n",
       "      <td>963480595</td>\n",
       "      <td>RepMarkMeadows</td>\n",
       "      <td>Mark Meadows</td>\n",
       "      <td>2012-11-22 02:20:50</td>\n",
       "      <td>Businessman, husband, and father proudly repre...</td>\n",
       "      <td>99500</td>\n",
       "      <td>896</td>\n",
       "      <td>Jackson County, NC</td>\n",
       "    </tr>\n",
       "    <tr>\n",
       "      <th>540295</th>\n",
       "      <td>468521699101900801</td>\n",
       "      <td>Great read from @NRO: The Internal Repression ...</td>\n",
       "      <td>2014-05-19 22:40:52</td>\n",
       "      <td>7</td>\n",
       "      <td>0</td>\n",
       "      <td>Twitter Web Client</td>\n",
       "      <td>963480595</td>\n",
       "      <td>RepMarkMeadows</td>\n",
       "      <td>Mark Meadows</td>\n",
       "      <td>2012-11-22 02:20:50</td>\n",
       "      <td>Businessman, husband, and father proudly repre...</td>\n",
       "      <td>99500</td>\n",
       "      <td>896</td>\n",
       "      <td>Jackson County, NC</td>\n",
       "    </tr>\n",
       "    <tr>\n",
       "      <th>540296</th>\n",
       "      <td>468429001124769792</td>\n",
       "      <td>Read my wife Debbie's op-ed on Skin Cancer/Mel...</td>\n",
       "      <td>2014-05-19 16:32:31</td>\n",
       "      <td>3</td>\n",
       "      <td>3</td>\n",
       "      <td>Twitter Web Client</td>\n",
       "      <td>963480595</td>\n",
       "      <td>RepMarkMeadows</td>\n",
       "      <td>Mark Meadows</td>\n",
       "      <td>2012-11-22 02:20:50</td>\n",
       "      <td>Businessman, husband, and father proudly repre...</td>\n",
       "      <td>99500</td>\n",
       "      <td>896</td>\n",
       "      <td>Jackson County, NC</td>\n",
       "    </tr>\n",
       "    <tr>\n",
       "      <th>540297</th>\n",
       "      <td>468424966078484480</td>\n",
       "      <td>Later this week, I will vote in support of the...</td>\n",
       "      <td>2014-05-19 16:16:29</td>\n",
       "      <td>1</td>\n",
       "      <td>0</td>\n",
       "      <td>Twitter Web Client</td>\n",
       "      <td>963480595</td>\n",
       "      <td>RepMarkMeadows</td>\n",
       "      <td>Mark Meadows</td>\n",
       "      <td>2012-11-22 02:20:50</td>\n",
       "      <td>Businessman, husband, and father proudly repre...</td>\n",
       "      <td>99500</td>\n",
       "      <td>896</td>\n",
       "      <td>Jackson County, NC</td>\n",
       "    </tr>\n",
       "    <tr>\n",
       "      <th>540298</th>\n",
       "      <td>468421076188659712</td>\n",
       "      <td>I'll vote in favor of H.R. 4031, which will al...</td>\n",
       "      <td>2014-05-19 16:01:02</td>\n",
       "      <td>2</td>\n",
       "      <td>1</td>\n",
       "      <td>Twitter Web Client</td>\n",
       "      <td>963480595</td>\n",
       "      <td>RepMarkMeadows</td>\n",
       "      <td>Mark Meadows</td>\n",
       "      <td>2012-11-22 02:20:50</td>\n",
       "      <td>Businessman, husband, and father proudly repre...</td>\n",
       "      <td>99500</td>\n",
       "      <td>896</td>\n",
       "      <td>Jackson County, NC</td>\n",
       "    </tr>\n",
       "  </tbody>\n",
       "</table>\n",
       "</div>"
      ],
      "text/plain": [
       "                        id                                               text  \\\n",
       "540293  468732284657733632  The Center for Medicare &amp; Medicaid Service...   \n",
       "540294  468731595399364608  Watch the House Oversight &amp; Gov't Reform C...   \n",
       "540295  468521699101900801  Great read from @NRO: The Internal Repression ...   \n",
       "540296  468429001124769792  Read my wife Debbie's op-ed on Skin Cancer/Mel...   \n",
       "540297  468424966078484480  Later this week, I will vote in support of the...   \n",
       "540298  468421076188659712  I'll vote in favor of H.R. 4031, which will al...   \n",
       "\n",
       "                created_at  retweet_count  favorite_count              source  \\\n",
       "540293 2014-05-20 12:37:39              3               0  Twitter Web Client   \n",
       "540294 2014-05-20 12:34:55              4               1  Twitter Web Client   \n",
       "540295 2014-05-19 22:40:52              7               0  Twitter Web Client   \n",
       "540296 2014-05-19 16:32:31              3               3  Twitter Web Client   \n",
       "540297 2014-05-19 16:16:29              1               0  Twitter Web Client   \n",
       "540298 2014-05-19 16:01:02              2               1  Twitter Web Client   \n",
       "\n",
       "          user_id user_screen_name     user_name     user_created_at  \\\n",
       "540293  963480595   RepMarkMeadows  Mark Meadows 2012-11-22 02:20:50   \n",
       "540294  963480595   RepMarkMeadows  Mark Meadows 2012-11-22 02:20:50   \n",
       "540295  963480595   RepMarkMeadows  Mark Meadows 2012-11-22 02:20:50   \n",
       "540296  963480595   RepMarkMeadows  Mark Meadows 2012-11-22 02:20:50   \n",
       "540297  963480595   RepMarkMeadows  Mark Meadows 2012-11-22 02:20:50   \n",
       "540298  963480595   RepMarkMeadows  Mark Meadows 2012-11-22 02:20:50   \n",
       "\n",
       "                                         user_description  \\\n",
       "540293  Businessman, husband, and father proudly repre...   \n",
       "540294  Businessman, husband, and father proudly repre...   \n",
       "540295  Businessman, husband, and father proudly repre...   \n",
       "540296  Businessman, husband, and father proudly repre...   \n",
       "540297  Businessman, husband, and father proudly repre...   \n",
       "540298  Businessman, husband, and father proudly repre...   \n",
       "\n",
       "        user_followers_count  user_friends_count       user_location  \n",
       "540293                 99500                 896  Jackson County, NC  \n",
       "540294                 99500                 896  Jackson County, NC  \n",
       "540295                 99500                 896  Jackson County, NC  \n",
       "540296                 99500                 896  Jackson County, NC  \n",
       "540297                 99500                 896  Jackson County, NC  \n",
       "540298                 99500                 896  Jackson County, NC  "
      ]
     },
     "execution_count": 22,
     "metadata": {},
     "output_type": "execute_result"
    }
   ],
   "source": [
    "data_set.tail(6)"
   ]
  },
  {
   "cell_type": "code",
   "execution_count": 23,
   "metadata": {
    "collapsed": true
   },
   "outputs": [],
   "source": [
    "data_set.to_csv(\"new_all_unlabeled_tweets1.csv\")"
   ]
  },
  {
   "cell_type": "code",
   "execution_count": 24,
   "metadata": {},
   "outputs": [
    {
     "name": "stdout",
     "output_type": "stream",
     "text": [
      "[Errno 2] No such file or directory: '/home/polichinel/Documents/all_timelines/time_lines_271_RepMeehan.pkl' [Errno 2] No such file or directory: '/home/polichinel/Documents/all_timelines/time_lines_272_RepGregoryMeeks.pkl' 273/538 274/538 275/538 276/538 277/538 278/538 279/538 280/538 [Errno 2] No such file or directory: '/home/polichinel/Documents/all_timelines/time_lines_281_RepMickMulvaney.pkl' [Errno 2] No such file or directory: '/home/polichinel/Documents/all_timelines/time_lines_282_RepStephMurphy.pkl' [Errno 2] No such file or directory: '/home/polichinel/Documents/all_timelines/time_lines_283_RepTimMurphy.pkl' 284/538 285/538 286/538 287/538 288/538 289/538 290/538 [Errno 2] No such file or directory: '/home/polichinel/Documents/all_timelines/time_lines_291_RepRalphNorman.pkl' 292/538 [Errno 2] No such file or directory: '/home/polichinel/Documents/all_timelines/time_lines_293_Rep_DevinNunes.pkl' 294/538 295/538 296/538 297/538 298/538 [Errno 2] No such file or directory: '/home/polichinel/Documents/all_timelines/time_lines_299_USRepGaryPalmer.pkl' 300/538 301/538 302/538 303/538 304/538 305/538 [Errno 2] No such file or directory: '/home/polichinel/Documents/all_timelines/time_lines_306_RepPerlmutter.pkl' 307/538 308/538 309/538 310/538 311/538 312/538 [Errno 2] No such file or directory: '/home/polichinel/Documents/all_timelines/time_lines_313_JudgeTedPoe.pkl' 314/538 315/538 [Errno 2] No such file or directory: '/home/polichinel/Documents/all_timelines/time_lines_316_RepMikePompeo.pkl' 317/538 318/538 319/538 320/538 321/538 [Errno 2] No such file or directory: '/home/polichinel/Documents/all_timelines/time_lines_322_repraskin.pkl' 323/538 324/538 325/538 326/538 327/538 328/538 329/538 [Errno 2] No such file or directory: '/home/polichinel/Documents/all_timelines/time_lines_330_RepMarthaRoby.pkl' 331/538 332/538 333/538 334/538 335/538 336/538 337/538 338/538 339/538 340/538 341/538 342/538 343/538 [Errno 2] No such file or directory: '/home/polichinel/Documents/all_timelines/time_lines_344_RepEdRoyce.pkl' 345/538 346/538 347/538 348/538 349/538 350/538 351/538 352/538 [Errno 2] No such file or directory: '/home/polichinel/Documents/all_timelines/time_lines_353_RepSanfordSC.pkl' 354/538 355/538 356/538 357/538 358/538 359/538 [Errno 2] No such file or directory: '/home/polichinel/Documents/all_timelines/time_lines_360_RepDavid.pkl' 361/538 362/538 363/538 364/538 365/538 366/538 [Errno 2] No such file or directory: '/home/polichinel/Documents/all_timelines/time_lines_367_RepTerriSewell.pkl' 368/538 369/538 370/538 371/538 372/538 373/538 374/538 [Errno 2] No such file or directory: '/home/polichinel/Documents/all_timelines/time_lines_375_LouiseSlaughter.pkl' 376/538 377/538 378/538 379/538 380/538 381/538 [Errno 2] No such file or directory: '/home/polichinel/Documents/all_timelines/time_lines_382_RepDarrenSoto.pkl' 383/538 384/538 385/538 386/538 387/538 388/538 [Errno 2] No such file or directory: '/home/polichinel/Documents/all_timelines/time_lines_389_RepMarkTakano.pkl' 390/538 391/538 392/538 393/538 394/538 395/538 396/538 397/538 398/538 [Errno 2] No such file or directory: '/home/polichinel/Documents/all_timelines/time_lines_399_RepPaulTonko.pkl' 400/538 401/538 402/538 403/538 404/538 405/538 406/538 [Errno 2] No such file or directory: '/home/polichinel/Documents/all_timelines/time_lines_407_RepVeasey.pkl' 408/538 409/538 410/538 411/538 412/538 413/538 [Errno 2] No such file or directory: '/home/polichinel/Documents/all_timelines/time_lines_414_RepMarkWalker.pkl' 415/538 416/538 417/538 418/538 419/538 420/538 [Errno 2] No such file or directory: '/home/polichinel/Documents/all_timelines/time_lines_421_TXRandy14.pkl' 422/538 423/538 424/538 425/538 426/538 427/538 [Errno 2] No such file or directory: '/home/polichinel/Documents/all_timelines/time_lines_428_RepWilson.pkl' 429/538 430/538 431/538 432/538 433/538 434/538 [Errno 2] No such file or directory: '/home/polichinel/Documents/all_timelines/time_lines_435_RepDavidYoung.pkl' 436/538 437/538 438/538 439/538 440/538 441/538 442/538 [Errno 2] No such file or directory: '/home/polichinel/Documents/all_timelines/time_lines_443_SenBlumenthal.pkl' 444/538 445/538 446/538 447/538 448/538 [Errno 2] No such file or directory: '/home/polichinel/Documents/all_timelines/time_lines_449_SenatorCantwell.pkl' 450/538 451/538 452/538 453/538 454/538 455/538 [Errno 2] No such file or directory: '/home/polichinel/Documents/all_timelines/time_lines_456_SenCoonsOffice.pkl' 457/538 458/538 459/538 460/538 461/538 [Errno 2] No such file or directory: '/home/polichinel/Documents/all_timelines/time_lines_462_SenTedCruz.pkl' 463/538 464/538 465/538 466/538 467/538 [Errno 2] No such file or directory: '/home/polichinel/Documents/all_timelines/time_lines_468_SenJoniErnst.pkl' 469/538 470/538 471/538 472/538 473/538 [Errno 2] No such file or directory: '/home/polichinel/Documents/all_timelines/time_lines_474_SenGillibrand.pkl' 475/538 476/538 477/538 478/538 479/538 [Errno 2] No such file or directory: '/home/polichinel/Documents/all_timelines/time_lines_480_MartinHeinrich.pkl' 481/538 482/538 483/538 484/538 485/538 [Errno 2] No such file or directory: '/home/polichinel/Documents/all_timelines/time_lines_486_SenatorIsakson.pkl' 487/538 488/538 [Errno 2] No such file or directory: '/home/polichinel/Documents/all_timelines/time_lines_489_SenKaineOffice.pkl' 490/538 491/538 492/538 493/538 494/538 [Errno 2] No such file or directory: '/home/polichinel/Documents/all_timelines/time_lines_495_Sen_JoeManchin.pkl' 496/538 497/538 498/538 499/538 500/538 [Errno 2] No such file or directory: '/home/polichinel/Documents/all_timelines/time_lines_501_SenJeffMerkley.pkl' 502/538 503/538 504/538 505/538 506/538 507/538 [Errno 2] No such file or directory: '/home/polichinel/Documents/all_timelines/time_lines_508_SenGaryPeters.pkl' 509/538 510/538 511/538 512/538 513/538 514/538 [Errno 2] No such file or directory: '/home/polichinel/Documents/all_timelines/time_lines_515_SenSanders.pkl' 516/538 517/538 518/538 519/538 [Errno 2] No such file or directory: '/home/polichinel/Documents/all_timelines/time_lines_520_SenatorSessions.pkl' 521/538 522/538 523/538 [Errno 2] No such file or directory: '/home/polichinel/Documents/all_timelines/time_lines_524_SenStabenow.pkl' 525/538 526/538 527/538 528/538 529/538 530/538 [Errno 2] No such file or directory: '/home/polichinel/Documents/all_timelines/time_lines_531_SenatorTomUdall.pkl' 532/538 533/538 534/538 535/538 536/538 [Errno 2] No such file or directory: '/home/polichinel/Documents/all_timelines/time_lines_537_RonWyden.pkl' [Errno 2] No such file or directory: '/home/polichinel/Documents/all_timelines/time_lines_538_RepToddYoung.pkl' "
     ]
    }
   ],
   "source": [
    "# Second batch:\n",
    "time_lines = []\n",
    "for legislator in legs[270:]:\n",
    "    count += 1\n",
    "    file_path = \"/home/polichinel/Documents/all_timelines/time_lines_\" + str(count) + \"_\" + legislator + \".pkl\"\n",
    "    \n",
    "    try:\n",
    "        pkl_file = open(file_path, 'rb')\n",
    "        temp_time_line = pickle.load(pkl_file)\n",
    "        pkl_file.close()\n",
    "    \n",
    "        time_lines += temp_time_line\n",
    "        \n",
    "        print(str(count)+\"/\"+str(len(legs)), end=\" \")\n",
    "                \n",
    "    except(FileNotFoundError)  as e:\n",
    "        print(e, end=\" \")\n",
    "        continue"
   ]
  },
  {
   "cell_type": "code",
   "execution_count": 25,
   "metadata": {},
   "outputs": [],
   "source": [
    "data_set = process_one_user(time_lines)"
   ]
  },
  {
   "cell_type": "code",
   "execution_count": 26,
   "metadata": {},
   "outputs": [
    {
     "name": "stdout",
     "output_type": "stream",
     "text": [
      "dimensions of dataframe: (588111, 14)\n"
     ]
    },
    {
     "data": {
      "text/html": [
       "<div>\n",
       "<style scoped>\n",
       "    .dataframe tbody tr th:only-of-type {\n",
       "        vertical-align: middle;\n",
       "    }\n",
       "\n",
       "    .dataframe tbody tr th {\n",
       "        vertical-align: top;\n",
       "    }\n",
       "\n",
       "    .dataframe thead th {\n",
       "        text-align: right;\n",
       "    }\n",
       "</style>\n",
       "<table border=\"1\" class=\"dataframe\">\n",
       "  <thead>\n",
       "    <tr style=\"text-align: right;\">\n",
       "      <th></th>\n",
       "      <th>id</th>\n",
       "      <th>text</th>\n",
       "      <th>created_at</th>\n",
       "      <th>retweet_count</th>\n",
       "      <th>favorite_count</th>\n",
       "      <th>source</th>\n",
       "      <th>user_id</th>\n",
       "      <th>user_screen_name</th>\n",
       "      <th>user_name</th>\n",
       "      <th>user_created_at</th>\n",
       "      <th>user_description</th>\n",
       "      <th>user_followers_count</th>\n",
       "      <th>user_friends_count</th>\n",
       "      <th>user_location</th>\n",
       "    </tr>\n",
       "  </thead>\n",
       "  <tbody>\n",
       "    <tr>\n",
       "      <th>0</th>\n",
       "      <td>1003297250813063170</td>\n",
       "      <td>Proud to commend the work and accomplishments ...</td>\n",
       "      <td>2018-06-03 15:27:59</td>\n",
       "      <td>3</td>\n",
       "      <td>8</td>\n",
       "      <td>Twitter for iPhone</td>\n",
       "      <td>1051127714</td>\n",
       "      <td>RepGraceMeng</td>\n",
       "      <td>Grace Meng</td>\n",
       "      <td>2012-12-31 20:28:41</td>\n",
       "      <td>Representing NY's 6th Congressional District -...</td>\n",
       "      <td>22209</td>\n",
       "      <td>689</td>\n",
       "      <td></td>\n",
       "    </tr>\n",
       "    <tr>\n",
       "      <th>1</th>\n",
       "      <td>1002607190820179974</td>\n",
       "      <td>The administration’s cruel practice of separat...</td>\n",
       "      <td>2018-06-01 17:45:56</td>\n",
       "      <td>5</td>\n",
       "      <td>10</td>\n",
       "      <td>Twitter Web Client</td>\n",
       "      <td>1051127714</td>\n",
       "      <td>RepGraceMeng</td>\n",
       "      <td>Grace Meng</td>\n",
       "      <td>2012-12-31 20:28:41</td>\n",
       "      <td>Representing NY's 6th Congressional District -...</td>\n",
       "      <td>22209</td>\n",
       "      <td>689</td>\n",
       "      <td></td>\n",
       "    </tr>\n",
       "    <tr>\n",
       "      <th>2</th>\n",
       "      <td>1002541582833344512</td>\n",
       "      <td>On National Gun Violence Awareness Day, we #We...</td>\n",
       "      <td>2018-06-01 13:25:14</td>\n",
       "      <td>8</td>\n",
       "      <td>36</td>\n",
       "      <td>Twitter Web Client</td>\n",
       "      <td>1051127714</td>\n",
       "      <td>RepGraceMeng</td>\n",
       "      <td>Grace Meng</td>\n",
       "      <td>2012-12-31 20:28:41</td>\n",
       "      <td>Representing NY's 6th Congressional District -...</td>\n",
       "      <td>22209</td>\n",
       "      <td>689</td>\n",
       "      <td></td>\n",
       "    </tr>\n",
       "    <tr>\n",
       "      <th>3</th>\n",
       "      <td>1002295203049431040</td>\n",
       "      <td>Great time listening to constituents when I st...</td>\n",
       "      <td>2018-05-31 21:06:12</td>\n",
       "      <td>5</td>\n",
       "      <td>14</td>\n",
       "      <td>Twitter Web Client</td>\n",
       "      <td>1051127714</td>\n",
       "      <td>RepGraceMeng</td>\n",
       "      <td>Grace Meng</td>\n",
       "      <td>2012-12-31 20:28:41</td>\n",
       "      <td>Representing NY's 6th Congressional District -...</td>\n",
       "      <td>22209</td>\n",
       "      <td>689</td>\n",
       "      <td></td>\n",
       "    </tr>\n",
       "    <tr>\n",
       "      <th>4</th>\n",
       "      <td>1002191230191759361</td>\n",
       "      <td>Pleased to join New York State Attorney Genera...</td>\n",
       "      <td>2018-05-31 14:13:03</td>\n",
       "      <td>8</td>\n",
       "      <td>27</td>\n",
       "      <td>Twitter Web Client</td>\n",
       "      <td>1051127714</td>\n",
       "      <td>RepGraceMeng</td>\n",
       "      <td>Grace Meng</td>\n",
       "      <td>2012-12-31 20:28:41</td>\n",
       "      <td>Representing NY's 6th Congressional District -...</td>\n",
       "      <td>22209</td>\n",
       "      <td>689</td>\n",
       "      <td></td>\n",
       "    </tr>\n",
       "    <tr>\n",
       "      <th>5</th>\n",
       "      <td>1001946026981380097</td>\n",
       "      <td>Today is #MomsEqualPay Day.  Did you know that...</td>\n",
       "      <td>2018-05-30 21:58:42</td>\n",
       "      <td>6</td>\n",
       "      <td>6</td>\n",
       "      <td>Twitter for iPhone</td>\n",
       "      <td>1051127714</td>\n",
       "      <td>RepGraceMeng</td>\n",
       "      <td>Grace Meng</td>\n",
       "      <td>2012-12-31 20:28:41</td>\n",
       "      <td>Representing NY's 6th Congressional District -...</td>\n",
       "      <td>22209</td>\n",
       "      <td>689</td>\n",
       "      <td></td>\n",
       "    </tr>\n",
       "  </tbody>\n",
       "</table>\n",
       "</div>"
      ],
      "text/plain": [
       "                    id                                               text  \\\n",
       "0  1003297250813063170  Proud to commend the work and accomplishments ...   \n",
       "1  1002607190820179974  The administration’s cruel practice of separat...   \n",
       "2  1002541582833344512  On National Gun Violence Awareness Day, we #We...   \n",
       "3  1002295203049431040  Great time listening to constituents when I st...   \n",
       "4  1002191230191759361  Pleased to join New York State Attorney Genera...   \n",
       "5  1001946026981380097  Today is #MomsEqualPay Day.  Did you know that...   \n",
       "\n",
       "           created_at  retweet_count  favorite_count              source  \\\n",
       "0 2018-06-03 15:27:59              3               8  Twitter for iPhone   \n",
       "1 2018-06-01 17:45:56              5              10  Twitter Web Client   \n",
       "2 2018-06-01 13:25:14              8              36  Twitter Web Client   \n",
       "3 2018-05-31 21:06:12              5              14  Twitter Web Client   \n",
       "4 2018-05-31 14:13:03              8              27  Twitter Web Client   \n",
       "5 2018-05-30 21:58:42              6               6  Twitter for iPhone   \n",
       "\n",
       "      user_id user_screen_name   user_name     user_created_at  \\\n",
       "0  1051127714     RepGraceMeng  Grace Meng 2012-12-31 20:28:41   \n",
       "1  1051127714     RepGraceMeng  Grace Meng 2012-12-31 20:28:41   \n",
       "2  1051127714     RepGraceMeng  Grace Meng 2012-12-31 20:28:41   \n",
       "3  1051127714     RepGraceMeng  Grace Meng 2012-12-31 20:28:41   \n",
       "4  1051127714     RepGraceMeng  Grace Meng 2012-12-31 20:28:41   \n",
       "5  1051127714     RepGraceMeng  Grace Meng 2012-12-31 20:28:41   \n",
       "\n",
       "                                    user_description  user_followers_count  \\\n",
       "0  Representing NY's 6th Congressional District -...                 22209   \n",
       "1  Representing NY's 6th Congressional District -...                 22209   \n",
       "2  Representing NY's 6th Congressional District -...                 22209   \n",
       "3  Representing NY's 6th Congressional District -...                 22209   \n",
       "4  Representing NY's 6th Congressional District -...                 22209   \n",
       "5  Representing NY's 6th Congressional District -...                 22209   \n",
       "\n",
       "   user_friends_count user_location  \n",
       "0                 689                \n",
       "1                 689                \n",
       "2                 689                \n",
       "3                 689                \n",
       "4                 689                \n",
       "5                 689                "
      ]
     },
     "execution_count": 26,
     "metadata": {},
     "output_type": "execute_result"
    }
   ],
   "source": [
    "print(\"dimensions of dataframe: \"  + str(data_set.shape))\n",
    "data_set.head(6)"
   ]
  },
  {
   "cell_type": "code",
   "execution_count": 27,
   "metadata": {},
   "outputs": [
    {
     "data": {
      "text/html": [
       "<div>\n",
       "<style scoped>\n",
       "    .dataframe tbody tr th:only-of-type {\n",
       "        vertical-align: middle;\n",
       "    }\n",
       "\n",
       "    .dataframe tbody tr th {\n",
       "        vertical-align: top;\n",
       "    }\n",
       "\n",
       "    .dataframe thead th {\n",
       "        text-align: right;\n",
       "    }\n",
       "</style>\n",
       "<table border=\"1\" class=\"dataframe\">\n",
       "  <thead>\n",
       "    <tr style=\"text-align: right;\">\n",
       "      <th></th>\n",
       "      <th>id</th>\n",
       "      <th>text</th>\n",
       "      <th>created_at</th>\n",
       "      <th>retweet_count</th>\n",
       "      <th>favorite_count</th>\n",
       "      <th>source</th>\n",
       "      <th>user_id</th>\n",
       "      <th>user_screen_name</th>\n",
       "      <th>user_name</th>\n",
       "      <th>user_created_at</th>\n",
       "      <th>user_description</th>\n",
       "      <th>user_followers_count</th>\n",
       "      <th>user_friends_count</th>\n",
       "      <th>user_location</th>\n",
       "    </tr>\n",
       "  </thead>\n",
       "  <tbody>\n",
       "    <tr>\n",
       "      <th>588105</th>\n",
       "      <td>386598435282890754</td>\n",
       "      <td>Pleased to see the Pentagon will bring back mo...</td>\n",
       "      <td>2013-10-05 21:07:04</td>\n",
       "      <td>2</td>\n",
       "      <td>2</td>\n",
       "      <td>Twitter for iPhone</td>\n",
       "      <td>264219447</td>\n",
       "      <td>SenatorWicker</td>\n",
       "      <td>Senator Roger Wicker</td>\n",
       "      <td>2011-03-11 14:59:01</td>\n",
       "      <td>U.S. Senator for Mississippi. Please visit my ...</td>\n",
       "      <td>61785</td>\n",
       "      <td>315</td>\n",
       "      <td>Mississippi &amp; Washington, DC</td>\n",
       "    </tr>\n",
       "    <tr>\n",
       "      <th>588106</th>\n",
       "      <td>386262541376040960</td>\n",
       "      <td>Watch my discussion on the Senate floor with @...</td>\n",
       "      <td>2013-10-04 22:52:20</td>\n",
       "      <td>5</td>\n",
       "      <td>1</td>\n",
       "      <td>TweetDeck</td>\n",
       "      <td>264219447</td>\n",
       "      <td>SenatorWicker</td>\n",
       "      <td>Senator Roger Wicker</td>\n",
       "      <td>2011-03-11 14:59:01</td>\n",
       "      <td>U.S. Senator for Mississippi. Please visit my ...</td>\n",
       "      <td>61785</td>\n",
       "      <td>315</td>\n",
       "      <td>Mississippi &amp; Washington, DC</td>\n",
       "    </tr>\n",
       "    <tr>\n",
       "      <th>588107</th>\n",
       "      <td>386259899279085568</td>\n",
       "      <td>ICYMI Here's my interview on @MSNBC with @Thom...</td>\n",
       "      <td>2013-10-04 22:41:51</td>\n",
       "      <td>1</td>\n",
       "      <td>0</td>\n",
       "      <td>TweetDeck</td>\n",
       "      <td>264219447</td>\n",
       "      <td>SenatorWicker</td>\n",
       "      <td>Senator Roger Wicker</td>\n",
       "      <td>2011-03-11 14:59:01</td>\n",
       "      <td>U.S. Senator for Mississippi. Please visit my ...</td>\n",
       "      <td>61785</td>\n",
       "      <td>315</td>\n",
       "      <td>Mississippi &amp; Washington, DC</td>\n",
       "    </tr>\n",
       "    <tr>\n",
       "      <th>588108</th>\n",
       "      <td>386140622014275584</td>\n",
       "      <td>Tune in to MSNBC at 11:00AM for my interview w...</td>\n",
       "      <td>2013-10-04 14:47:53</td>\n",
       "      <td>0</td>\n",
       "      <td>0</td>\n",
       "      <td>TweetDeck</td>\n",
       "      <td>264219447</td>\n",
       "      <td>SenatorWicker</td>\n",
       "      <td>Senator Roger Wicker</td>\n",
       "      <td>2011-03-11 14:59:01</td>\n",
       "      <td>U.S. Senator for Mississippi. Please visit my ...</td>\n",
       "      <td>61785</td>\n",
       "      <td>315</td>\n",
       "      <td>Mississippi &amp; Washington, DC</td>\n",
       "    </tr>\n",
       "    <tr>\n",
       "      <th>588109</th>\n",
       "      <td>386095412597096448</td>\n",
       "      <td>Looking forward to visiting with  @paulgallosh...</td>\n",
       "      <td>2013-10-04 11:48:14</td>\n",
       "      <td>1</td>\n",
       "      <td>0</td>\n",
       "      <td>Twitter for iPhone</td>\n",
       "      <td>264219447</td>\n",
       "      <td>SenatorWicker</td>\n",
       "      <td>Senator Roger Wicker</td>\n",
       "      <td>2011-03-11 14:59:01</td>\n",
       "      <td>U.S. Senator for Mississippi. Please visit my ...</td>\n",
       "      <td>61785</td>\n",
       "      <td>315</td>\n",
       "      <td>Mississippi &amp; Washington, DC</td>\n",
       "    </tr>\n",
       "    <tr>\n",
       "      <th>588110</th>\n",
       "      <td>385846065749975040</td>\n",
       "      <td>My D.C. staff and I are safe. Thankful for the...</td>\n",
       "      <td>2013-10-03 19:17:25</td>\n",
       "      <td>20</td>\n",
       "      <td>4</td>\n",
       "      <td>Twitter Web Client</td>\n",
       "      <td>264219447</td>\n",
       "      <td>SenatorWicker</td>\n",
       "      <td>Senator Roger Wicker</td>\n",
       "      <td>2011-03-11 14:59:01</td>\n",
       "      <td>U.S. Senator for Mississippi. Please visit my ...</td>\n",
       "      <td>61785</td>\n",
       "      <td>315</td>\n",
       "      <td>Mississippi &amp; Washington, DC</td>\n",
       "    </tr>\n",
       "  </tbody>\n",
       "</table>\n",
       "</div>"
      ],
      "text/plain": [
       "                        id                                               text  \\\n",
       "588105  386598435282890754  Pleased to see the Pentagon will bring back mo...   \n",
       "588106  386262541376040960  Watch my discussion on the Senate floor with @...   \n",
       "588107  386259899279085568  ICYMI Here's my interview on @MSNBC with @Thom...   \n",
       "588108  386140622014275584  Tune in to MSNBC at 11:00AM for my interview w...   \n",
       "588109  386095412597096448  Looking forward to visiting with  @paulgallosh...   \n",
       "588110  385846065749975040  My D.C. staff and I are safe. Thankful for the...   \n",
       "\n",
       "                created_at  retweet_count  favorite_count              source  \\\n",
       "588105 2013-10-05 21:07:04              2               2  Twitter for iPhone   \n",
       "588106 2013-10-04 22:52:20              5               1           TweetDeck   \n",
       "588107 2013-10-04 22:41:51              1               0           TweetDeck   \n",
       "588108 2013-10-04 14:47:53              0               0           TweetDeck   \n",
       "588109 2013-10-04 11:48:14              1               0  Twitter for iPhone   \n",
       "588110 2013-10-03 19:17:25             20               4  Twitter Web Client   \n",
       "\n",
       "          user_id user_screen_name             user_name     user_created_at  \\\n",
       "588105  264219447    SenatorWicker  Senator Roger Wicker 2011-03-11 14:59:01   \n",
       "588106  264219447    SenatorWicker  Senator Roger Wicker 2011-03-11 14:59:01   \n",
       "588107  264219447    SenatorWicker  Senator Roger Wicker 2011-03-11 14:59:01   \n",
       "588108  264219447    SenatorWicker  Senator Roger Wicker 2011-03-11 14:59:01   \n",
       "588109  264219447    SenatorWicker  Senator Roger Wicker 2011-03-11 14:59:01   \n",
       "588110  264219447    SenatorWicker  Senator Roger Wicker 2011-03-11 14:59:01   \n",
       "\n",
       "                                         user_description  \\\n",
       "588105  U.S. Senator for Mississippi. Please visit my ...   \n",
       "588106  U.S. Senator for Mississippi. Please visit my ...   \n",
       "588107  U.S. Senator for Mississippi. Please visit my ...   \n",
       "588108  U.S. Senator for Mississippi. Please visit my ...   \n",
       "588109  U.S. Senator for Mississippi. Please visit my ...   \n",
       "588110  U.S. Senator for Mississippi. Please visit my ...   \n",
       "\n",
       "        user_followers_count  user_friends_count                 user_location  \n",
       "588105                 61785                 315  Mississippi & Washington, DC  \n",
       "588106                 61785                 315  Mississippi & Washington, DC  \n",
       "588107                 61785                 315  Mississippi & Washington, DC  \n",
       "588108                 61785                 315  Mississippi & Washington, DC  \n",
       "588109                 61785                 315  Mississippi & Washington, DC  \n",
       "588110                 61785                 315  Mississippi & Washington, DC  "
      ]
     },
     "execution_count": 27,
     "metadata": {},
     "output_type": "execute_result"
    }
   ],
   "source": [
    "data_set.tail(6)"
   ]
  },
  {
   "cell_type": "code",
   "execution_count": 28,
   "metadata": {},
   "outputs": [],
   "source": [
    "data_set.to_csv(\"new_all_unlabeled_tweets2.csv\")"
   ]
  }
 ],
 "metadata": {
  "kernelspec": {
   "display_name": "Python 3",
   "language": "python",
   "name": "python3"
  },
  "language_info": {
   "codemirror_mode": {
    "name": "ipython",
    "version": 3
   },
   "file_extension": ".py",
   "mimetype": "text/x-python",
   "name": "python",
   "nbconvert_exporter": "python",
   "pygments_lexer": "ipython3",
   "version": "3.6.3"
  }
 },
 "nbformat": 4,
 "nbformat_minor": 2
}
